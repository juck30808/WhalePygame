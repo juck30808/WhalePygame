{
 "cells": [
  {
   "cell_type": "code",
   "execution_count": 1,
   "metadata": {},
   "outputs": [
    {
     "name": "stdout",
     "output_type": "stream",
     "text": [
      "pygame 2.1.2 (SDL 2.0.18, Python 3.9.7)\n",
      "Hello from the pygame community. https://www.pygame.org/contribute.html\n"
     ]
    },
    {
     "ename": "FileNotFoundError",
     "evalue": "No file 'input/dragon_left.png' found in working directory 'C:\\Users\\cti110016\\Documents\\GitHub\\WhaleFall\\pygame'.",
     "output_type": "error",
     "traceback": [
      "\u001b[1;31m---------------------------------------------------------------------------\u001b[0m",
      "\u001b[1;31mFileNotFoundError\u001b[0m                         Traceback (most recent call last)",
      "\u001b[1;32mC:\\Users\\CTI110~1\\AppData\\Local\\Temp/ipykernel_12052/774776527.py\u001b[0m in \u001b[0;36m<module>\u001b[1;34m\u001b[0m\n\u001b[0;32m      9\u001b[0m \u001b[1;31m#Create images...returns a Surface object with the image drawon on it.\u001b[0m\u001b[1;33m\u001b[0m\u001b[1;33m\u001b[0m\u001b[0m\n\u001b[0;32m     10\u001b[0m \u001b[1;31m#We can then get the rect of the surface and use the rect to position the image.\u001b[0m\u001b[1;33m\u001b[0m\u001b[1;33m\u001b[0m\u001b[0m\n\u001b[1;32m---> 11\u001b[1;33m \u001b[0mdragon_left_image\u001b[0m \u001b[1;33m=\u001b[0m \u001b[0mpygame\u001b[0m\u001b[1;33m.\u001b[0m\u001b[0mimage\u001b[0m\u001b[1;33m.\u001b[0m\u001b[0mload\u001b[0m\u001b[1;33m(\u001b[0m\u001b[1;34m\"input/dragon_left.png\"\u001b[0m\u001b[1;33m)\u001b[0m\u001b[1;33m\u001b[0m\u001b[1;33m\u001b[0m\u001b[0m\n\u001b[0m\u001b[0;32m     12\u001b[0m \u001b[0mdragon_left_rect\u001b[0m \u001b[1;33m=\u001b[0m \u001b[0mdragon_left_image\u001b[0m\u001b[1;33m.\u001b[0m\u001b[0mget_rect\u001b[0m\u001b[1;33m(\u001b[0m\u001b[1;33m)\u001b[0m\u001b[1;33m\u001b[0m\u001b[1;33m\u001b[0m\u001b[0m\n\u001b[0;32m     13\u001b[0m \u001b[0mdragon_left_rect\u001b[0m\u001b[1;33m.\u001b[0m\u001b[0mtopleft\u001b[0m \u001b[1;33m=\u001b[0m \u001b[1;33m(\u001b[0m\u001b[1;36m0\u001b[0m\u001b[1;33m,\u001b[0m\u001b[1;36m0\u001b[0m\u001b[1;33m)\u001b[0m\u001b[1;33m\u001b[0m\u001b[1;33m\u001b[0m\u001b[0m\n",
      "\u001b[1;31mFileNotFoundError\u001b[0m: No file 'input/dragon_left.png' found in working directory 'C:\\Users\\cti110016\\Documents\\GitHub\\WhaleFall\\pygame'."
     ]
    }
   ],
   "source": [
    "import pygame\n",
    "\n",
    "pygame.init()\n",
    "WINDOW_WIDTH = 600\n",
    "WINDOW_HEIGHT = 300\n",
    "display_surface = pygame.display.set_mode((WINDOW_WIDTH, WINDOW_HEIGHT))\n",
    "pygame.display.set_caption(\"Blitting Images!\")\n",
    "\n",
    "#Create images...returns a Surface object with the image drawon on it.\n",
    "#We can then get the rect of the surface and use the rect to position the image.\n",
    "dragon_left_image = pygame.image.load(\"input/dragon_left.png\")\n",
    "dragon_left_rect = dragon_left_image.get_rect()\n",
    "dragon_left_rect.topleft = (0,0)\n",
    "\n",
    "dragon_right_image = pygame.image.load(\"input/dragon_right.png\")\n",
    "dragon_right_rect = dragon_right_image.get_rect()\n",
    "dragon_right_rect.topright = (WINDOW_WIDTH, 0)\n",
    "\n",
    "#The main game loop\n",
    "running = True\n",
    "while running:\n",
    "    for event in pygame.event.get():\n",
    "        if event.type == pygame.QUIT:\n",
    "            running = False\n",
    "\n",
    "    #Blit (copy) a surface object at the given coordinates to our display\n",
    "    display_surface.blit(dragon_left_image, dragon_left_rect)\n",
    "    display_surface.blit(dragon_right_image, dragon_right_rect)\n",
    "\n",
    "    pygame.draw.line(display_surface, (255, 255, 255), (0, 75), (WINDOW_WIDTH, 75), 4)\n",
    "\n",
    "    #Update the display\n",
    "    pygame.display.update()\n",
    "\n",
    "#End the game\n",
    "pygame.quit()"
   ]
  },
  {
   "cell_type": "code",
   "execution_count": null,
   "metadata": {},
   "outputs": [],
   "source": []
  }
 ],
 "metadata": {
  "kernelspec": {
   "display_name": "Python 3 (ipykernel)",
   "language": "python",
   "name": "python3"
  },
  "language_info": {
   "codemirror_mode": {
    "name": "ipython",
    "version": 3
   },
   "file_extension": ".py",
   "mimetype": "text/x-python",
   "name": "python",
   "nbconvert_exporter": "python",
   "pygments_lexer": "ipython3",
   "version": "3.9.7"
  }
 },
 "nbformat": 4,
 "nbformat_minor": 4
}
