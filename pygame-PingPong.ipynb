{
 "cells": [
  {
   "cell_type": "code",
   "execution_count": null,
   "metadata": {},
   "outputs": [],
   "source": [
    "# Windows can be execute"
   ]
  },
  {
   "cell_type": "code",
   "execution_count": 3,
   "metadata": {
    "scrolled": true
   },
   "outputs": [
    {
     "name": "stdout",
     "output_type": "stream",
     "text": [
      "Requirement already satisfied: pygame in /Users/juck30808/opt/anaconda3/lib/python3.8/site-packages (2.1.0)\r\n"
     ]
    }
   ],
   "source": [
    "!pip install pygame"
   ]
  },
  {
   "cell_type": "code",
   "execution_count": 4,
   "metadata": {},
   "outputs": [
    {
     "data": {
      "text/plain": [
       "(5, 0)"
      ]
     },
     "execution_count": 4,
     "metadata": {},
     "output_type": "execute_result"
    }
   ],
   "source": [
    "import pygame\n",
    "pygame.init()"
   ]
  },
  {
   "cell_type": "code",
   "execution_count": 5,
   "metadata": {},
   "outputs": [],
   "source": [
    "pygame.font.init()"
   ]
  },
  {
   "cell_type": "code",
   "execution_count": 6,
   "metadata": {},
   "outputs": [],
   "source": [
    "import pygame\n",
    "from pygame.locals import*\n",
    "game_display = pygame.display.set_mode((800, 600))\n",
    "pygame.display.update()"
   ]
  },
  {
   "cell_type": "code",
   "execution_count": 7,
   "metadata": {},
   "outputs": [],
   "source": [
    "import pygame\n",
    "from pygame.locals import*\n",
    "\n",
    "pygame.init()\n",
    "display_width = 800\n",
    "display_height = 600\n",
    "\n",
    "game_display = pygame.display.set_mode((display_width, display_height))\n",
    "pygame.display.set_caption('My Game')\n",
    "\n",
    "def event_handler():\n",
    "    for event in pygame.event.get():\n",
    "        if event.type == QUIT or (\n",
    "            event.type == KEYDOWN and (\n",
    "            event.key == K_ESCAPE or\n",
    "            event.key == K_q)):\n",
    "            pygame.quit()\n",
    "            quit()"
   ]
  },
  {
   "cell_type": "code",
   "execution_count": null,
   "metadata": {},
   "outputs": [],
   "source": [
    "#Paddle\n",
    "import pygame\n",
    "black = (0,0,0)\n",
    " \n",
    "class Paddle(pygame.sprite.Sprite):\n",
    "    #This class represents a car. It derives from the \"Sprite\" class in Pygame.\n",
    "    \n",
    "    def __init__(self, color, width, height):\n",
    "        # Call the parent class (Sprite) constructor\n",
    "        super().__init__()\n",
    "        \n",
    "        # Pass in the color of the car, and its x and y position, width and height.\n",
    "        # Set the background color and set it to be transparent\n",
    "        self.image = pygame.Surface([width, height])\n",
    "        self.image.fill(black)\n",
    "        self.image.set_colorkey(black)\n",
    " \n",
    "        # Draw the paddle (a rectangle!)\n",
    "        pygame.draw.rect(self.image, color, [0, 0, width, height])\n",
    "        \n",
    "        # Fetch the rectangle object that has the dimensions of the image.\n",
    "        self.rect = self.image.get_rect()\n",
    "        \n",
    "    def paddles_moving_up(self, no_of_pixels):\n",
    "        self.rect.y -= no_of_pixels\n",
    "        #Check that you are not going too far (off the screen)\n",
    "        if self.rect.y < 0:\n",
    "            self.rect.y = 0\n",
    "          \n",
    "    def paddles_moving_down(self, no_of_pixels):\n",
    "        self.rect.y += no_of_pixels\n",
    "        #Check that you are not going too far (off the screen)\n",
    "        if self.rect.y > 460:\n",
    "            self.rect.y = 460"
   ]
  },
  {
   "cell_type": "code",
   "execution_count": null,
   "metadata": {},
   "outputs": [],
   "source": [
    "#ball.py\n",
    "import pygame\n",
    "from random import randint\n",
    " \n",
    "black = (0, 0, 0)\n",
    "class Ball(pygame.sprite.Sprite):\n",
    "    \n",
    "    def __init__(self, color, width, height):\n",
    "        super().__init__()\n",
    "        self.image = pygame.Surface([width, height])\n",
    "        self.image.fill(black)\n",
    "        self.image.set_colorkey(black)\n",
    " \n",
    "        pygame.draw.rect(self.image, color, [0, 0, width, height])\n",
    "        self.velocity = [randint(4,8), randint(-8,8)]\n",
    "        self.rect = self.image.get_rect()\n",
    "\n",
    "    def update(self):\n",
    "        self.rect.x += self.velocity[0]\n",
    "        self.rect.y += self.velocity[1]\n",
    "\n",
    "    def bouncing(self):\n",
    "        self.velocity[0] = -self.velocity[0]\n",
    "        self.velocity[1] =  self.velocity[1]\n"
   ]
  },
  {
   "cell_type": "code",
   "execution_count": null,
   "metadata": {},
   "outputs": [],
   "source": [
    "#pong.py\n",
    "\n",
    "import pygame\n",
    "from pygame import*\n",
    "# from paddle import Paddle\n",
    "# from ball import Ball\n",
    " \n",
    "pygame.init()\n",
    " \n",
    "black = (0,0,0)\n",
    "white = (255,255,255)\n",
    " \n",
    "# Open a new window\n",
    "size = (800, 600)\n",
    "game_display = pygame.display.set_mode(size)\n",
    "pygame.display.set_caption(\"Pong\")\n",
    " \n",
    "paddle1 = Paddle(white, 10, 130)\n",
    "paddle1.rect.x = 5\n",
    "paddle1.rect.y = 250\n",
    " \n",
    "paddle2 = Paddle(white, 10, 130)\n",
    "paddle2.rect.x = 785\n",
    "paddle2.rect.y = 250\n",
    "\n",
    "ball = Ball(white, 20, 20)\n",
    "ball.rect.x = 400\n",
    "ball.rect.y = 200\n",
    "\n",
    "sprites_list = pygame.sprite.Group()\n",
    "\n",
    "sprites_list.add(paddle1)\n",
    "sprites_list.add(paddle2)\n",
    "sprites_list.add(ball)\n",
    " \n",
    "score1 = 0\n",
    "score2 = 0\n",
    "\n",
    "poping_sound = pygame.mixer.Sound('input/poping.wav')\n",
    "scoring_sound = pygame.mixer.Sound('input/scoring.wav')\n",
    "\n",
    "game_on = True\n",
    "clock = pygame.time.Clock()\n",
    "\n",
    "while game_on:\n",
    "    for event in pygame.event.get(): \n",
    "        if event.type == pygame.QUIT: \n",
    "            game_on = False \n",
    "        if event.type == pygame.KEYDOWN:\n",
    "            if event.key == pygame.K_x:\n",
    "                game_on = False\n",
    "\n",
    "    keys = pygame.key.get_pressed()\n",
    "    if keys[pygame.K_w]:\n",
    "        paddle1.paddles_moving_up(6)\n",
    "    if keys[pygame.K_s]:\n",
    "        paddle1.paddles_moving_down(6)\n",
    "    if keys[pygame.K_UP]:\n",
    "        paddle2.paddles_moving_up(6)\n",
    "    if keys[pygame.K_DOWN]:\n",
    "        paddle2.paddles_moving_down(6)    \n",
    " \n",
    "  \n",
    "    sprites_list.update()\n",
    "    \n",
    "    if ball.rect.x>=780:\n",
    "        score1 += 1\n",
    "        scoring_sound.play()\n",
    "        ball.velocity[0] = -ball.velocity[0]\n",
    "        ball.rect.x = 400\n",
    "        ball.rect.y = 200\n",
    "\n",
    "    if ball.rect.x<=2:\n",
    "        score2 += 1\n",
    "        scoring_sound.play()\n",
    "        ball.velocity[0] = -ball.velocity[0]\n",
    "        ball.rect.x = 400\n",
    "        ball.rect.y = 200\n",
    "\n",
    "    if ball.rect.y>580:\n",
    "        ball.velocity[1] = -ball.velocity[1]\n",
    "\n",
    "    if ball.rect.y<0:\n",
    "        ball.velocity[1] = -ball.velocity[1]\n",
    "\n",
    "    if pygame.sprite.collide_mask(ball, paddle1) or pygame.sprite.collide_mask(ball, paddle2):\n",
    "        ball.bouncing()\n",
    "        poping_sound.play()\n",
    "\n",
    "    \n",
    "    game_display.fill(black)\n",
    "    pygame.draw.line(game_display, white, [400, 0], [400, 600],10)\n",
    "    sprites_list.draw(game_display) \n",
    " \n",
    "    font = pygame.font.Font(None, 100)\n",
    "    text = font.render(str(score1), 1, white)\n",
    "    game_display.blit(text,(305,10))\n",
    "    text = font.render(str(score2), 1, white)\n",
    "    game_display.blit(text,(420,10))\n",
    "    pygame.display.flip()\n",
    "    clock.tick(60)\n",
    "\n",
    "pygame.quit()"
   ]
  },
  {
   "cell_type": "code",
   "execution_count": null,
   "metadata": {},
   "outputs": [],
   "source": []
  }
 ],
 "metadata": {
  "kernelspec": {
   "display_name": "Python 3 (ipykernel)",
   "language": "python",
   "name": "python3"
  },
  "language_info": {
   "codemirror_mode": {
    "name": "ipython",
    "version": 3
   },
   "file_extension": ".py",
   "mimetype": "text/x-python",
   "name": "python",
   "nbconvert_exporter": "python",
   "pygments_lexer": "ipython3",
   "version": "3.9.7"
  }
 },
 "nbformat": 4,
 "nbformat_minor": 4
}
