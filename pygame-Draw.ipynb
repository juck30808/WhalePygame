{
 "cells": [
  {
   "cell_type": "code",
   "execution_count": 2,
   "metadata": {},
   "outputs": [],
   "source": [
    "import pygame\n",
    "\n",
    "#Intiailize Pygame\n",
    "pygame.init()\n",
    "\n",
    "#Create a display surface and set its caption\n",
    "WINDOW_WIDTH = 600\n",
    "WINDOW_HEIGHT = 600\n",
    "display_surface = pygame.display.set_mode((WINDOW_WIDTH, WINDOW_HEIGHT))\n",
    "pygame.display.set_caption(\"Drawing Objects\")\n",
    "\n",
    "#Define colors as RGB tuples\n",
    "BLACK = (0, 0, 0)\n",
    "WHITE = (255, 255, 255)\n",
    "RED = (255, 0, 0)\n",
    "GREEN = (0, 255, 0)\n",
    "BLUE = (0, 0, 255)\n",
    "YELLOW = (255, 255, 0)\n",
    "CYAN = (0, 255, 255)\n",
    "MAGNETA = (255, 0, 255)\n",
    "\n",
    "#Give a background color to the display\n",
    "display_surface.fill(BLUE)\n",
    "\n",
    "#Draw various shapes on our display\n",
    "#Line(surface, color, starting point, ending point, thickness)\n",
    "pygame.draw.line(display_surface, RED, (0,0), (100,100), 5)\n",
    "pygame.draw.line(display_surface, GREEN, (100,100), (200,300), 1)\n",
    "\n",
    "#Circle(surface, color, center, radius, thickness...0 for fill)\n",
    "pygame.draw.circle(display_surface, WHITE, (WINDOW_WIDTH//2, WINDOW_HEIGHT//2), 200, 6)\n",
    "pygame.draw.circle(display_surface, YELLOW, (WINDOW_WIDTH//2, WINDOW_HEIGHT//2), 195, 0)\n",
    "\n",
    "#Rectangle(surface, color, (top-left x, top-left y, width, height))\n",
    "pygame.draw.rect(display_surface, CYAN, (500, 0, 100, 100))\n",
    "pygame.draw.rect(display_surface, MAGNETA, (500, 100, 50, 100))\n",
    "\n",
    "#The main game loop\n",
    "running = True\n",
    "while running:\n",
    "    for event in pygame.event.get():\n",
    "        if event.type == pygame.QUIT:\n",
    "            running = False\n",
    "\n",
    "    #Update the display\n",
    "    pygame.display.update()\n",
    "\n",
    "#End the game\n",
    "pygame.quit()"
   ]
  },
  {
   "cell_type": "code",
   "execution_count": null,
   "metadata": {},
   "outputs": [],
   "source": []
  }
 ],
 "metadata": {
  "kernelspec": {
   "display_name": "Python 3 (ipykernel)",
   "language": "python",
   "name": "python3"
  },
  "language_info": {
   "codemirror_mode": {
    "name": "ipython",
    "version": 3
   },
   "file_extension": ".py",
   "mimetype": "text/x-python",
   "name": "python",
   "nbconvert_exporter": "python",
   "pygments_lexer": "ipython3",
   "version": "3.9.7"
  }
 },
 "nbformat": 4,
 "nbformat_minor": 4
}
