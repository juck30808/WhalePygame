{
 "cells": [
  {
   "cell_type": "code",
   "execution_count": 1,
   "metadata": {},
   "outputs": [
    {
     "name": "stdout",
     "output_type": "stream",
     "text": [
      "pygame 2.1.2 (SDL 2.0.18, Python 3.9.7)\n",
      "Hello from the pygame community. https://www.pygame.org/contribute.html\n"
     ]
    },
    {
     "ename": "FileNotFoundError",
     "evalue": "No file 'sound_1.wav' found in working directory 'C:\\Users\\cti110016\\Documents\\GitHub\\WhaleFall\\pygame'.",
     "output_type": "error",
     "traceback": [
      "\u001b[1;31m---------------------------------------------------------------------------\u001b[0m",
      "\u001b[1;31mFileNotFoundError\u001b[0m                         Traceback (most recent call last)",
      "\u001b[1;32mC:\\Users\\CTI110~1\\AppData\\Local\\Temp/ipykernel_21928/2819374678.py\u001b[0m in \u001b[0;36m<module>\u001b[1;34m\u001b[0m\n\u001b[0;32m     11\u001b[0m \u001b[1;33m\u001b[0m\u001b[0m\n\u001b[0;32m     12\u001b[0m \u001b[1;31m#Load sound effects\u001b[0m\u001b[1;33m\u001b[0m\u001b[1;33m\u001b[0m\u001b[0m\n\u001b[1;32m---> 13\u001b[1;33m \u001b[0msound_1\u001b[0m \u001b[1;33m=\u001b[0m \u001b[0mpygame\u001b[0m\u001b[1;33m.\u001b[0m\u001b[0mmixer\u001b[0m\u001b[1;33m.\u001b[0m\u001b[0mSound\u001b[0m\u001b[1;33m(\u001b[0m\u001b[1;34m'sound_1.wav'\u001b[0m\u001b[1;33m)\u001b[0m\u001b[1;33m\u001b[0m\u001b[1;33m\u001b[0m\u001b[0m\n\u001b[0m\u001b[0;32m     14\u001b[0m \u001b[0msound_2\u001b[0m \u001b[1;33m=\u001b[0m \u001b[0mpygame\u001b[0m\u001b[1;33m.\u001b[0m\u001b[0mmixer\u001b[0m\u001b[1;33m.\u001b[0m\u001b[0mSound\u001b[0m\u001b[1;33m(\u001b[0m\u001b[1;34m'sound_2.wav'\u001b[0m\u001b[1;33m)\u001b[0m\u001b[1;33m\u001b[0m\u001b[1;33m\u001b[0m\u001b[0m\n\u001b[0;32m     15\u001b[0m \u001b[1;33m\u001b[0m\u001b[0m\n",
      "\u001b[1;31mFileNotFoundError\u001b[0m: No file 'sound_1.wav' found in working directory 'C:\\Users\\cti110016\\Documents\\GitHub\\WhaleFall\\pygame'."
     ]
    }
   ],
   "source": [
    "import pygame\n",
    "\n",
    "#Intialize pygame\n",
    "pygame.init()\n",
    "\n",
    "#Create a display surface\n",
    "WINDOW_WIDTH = 600\n",
    "WINDOW_HEIGHT = 300\n",
    "display_surface = pygame.display.set_mode((WINDOW_WIDTH, WINDOW_HEIGHT))\n",
    "pygame.display.set_caption(\"Adding Sounds!\")\n",
    "\n",
    "#Load sound effects\n",
    "sound_1 = pygame.mixer.Sound('sound_1.wav')\n",
    "sound_2 = pygame.mixer.Sound('sound_2.wav')\n",
    "\n",
    "#Play the sound effects\n",
    "sound_1.play()\n",
    "pygame.time.delay(2000)\n",
    "sound_2.play()\n",
    "pygame.time.delay(2000)\n",
    "\n",
    "#Change the volume of a sound effect\n",
    "sound_2.set_volume(.1)\n",
    "sound_2.play()\n",
    "\n",
    "#Load background music\n",
    "pygame.mixer.music.load('music.wav')\n",
    "\n",
    "#Play and stop the music\n",
    "pygame.mixer.music.play(-1, 0.0)\n",
    "pygame.time.delay(1000)\n",
    "sound_2.play()\n",
    "pygame.time.delay(5000)\n",
    "pygame.mixer.music.stop()\n",
    "\n",
    "#The main game loop\n",
    "running = True\n",
    "while running:\n",
    "    for event in pygame.event.get():\n",
    "        if event.type == pygame.QUIT:\n",
    "            running = False\n",
    "\n",
    "#End the game\n",
    "pygame.quit()"
   ]
  },
  {
   "cell_type": "code",
   "execution_count": null,
   "metadata": {},
   "outputs": [],
   "source": []
  }
 ],
 "metadata": {
  "kernelspec": {
   "display_name": "Python 3 (ipykernel)",
   "language": "python",
   "name": "python3"
  },
  "language_info": {
   "codemirror_mode": {
    "name": "ipython",
    "version": 3
   },
   "file_extension": ".py",
   "mimetype": "text/x-python",
   "name": "python",
   "nbconvert_exporter": "python",
   "pygments_lexer": "ipython3",
   "version": "3.9.7"
  }
 },
 "nbformat": 4,
 "nbformat_minor": 4
}
